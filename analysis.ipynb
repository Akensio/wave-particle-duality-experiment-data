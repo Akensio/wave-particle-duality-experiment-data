{
 "cells": [
  {
   "cell_type": "code",
   "execution_count": 1,
   "metadata": {},
   "outputs": [],
   "source": [
    "import numpy as np\n",
    "import pandas as pd\n",
    "from ODR import odr_fit"
   ]
  },
  {
   "cell_type": "code",
   "execution_count": 22,
   "metadata": {},
   "outputs": [
    {
     "name": "stdout",
     "output_type": "stream",
     "text": [
      "plot1:\n",
      "chi_square 1.646259864841222\n",
      "degrees_freedom 9\n",
      "chi_square_reduced 0.1829177627601358 \n",
      "p_value 0.9959093275538187\n",
      "\n",
      "\n",
      "plot2:\n",
      "chi_square 0.8001766221695588\n",
      "degrees_freedom 9\n",
      "chi_square_reduced 0.08890851357439541 \n",
      "p_value 0.9997763884505912\n",
      "\n",
      "\n"
     ]
    }
   ],
   "source": [
    "df = pd.read_excel(\"dispersion_data.xlsx\")\n",
    "\n",
    "voltage = df[\"voltage-kv\"].apply(lambda t: 1 / np.sqrt(t))\n",
    "voltage_error = df[\"voltage-kv\"].apply(lambda t: 0.5 * 0.1 / t)\n",
    "\n",
    "R1s = (df[\"diameter_in_external-mm\"] + df[\"diameter_in_internal-mm\"]) / 4\n",
    "dR1s = (df[\"diameter_in_external-mm\"] - df[\"diameter_in_internal-mm\"]) / 8\n",
    "\n",
    "R2s = (df[\"diameter2_in_external-mm\"] + df[\"diameter2_in_internal-mm\"]) / 4\n",
    "dR2s = (df[\"diameter2_in_external-mm\"] - df[\"diameter2_in_internal-mm\"]) / 8\n",
    "\n",
    "results1, chi_square, degrees_freedom, chi_square_reduced, p_value = (\n",
    "    odr_fit.perform_odr(voltage.values, voltage_error.values, R1s.values, dR1s.values)\n",
    ")\n",
    "print(f\"plot1:\\nchi_square {chi_square}\\ndegrees_freedom {degrees_freedom}\\nchi_square_reduced {chi_square_reduced} \\np_value {p_value}\\n\\n\")\n",
    "results2, chi_square, degrees_freedom, chi_square_reduced, p_value = (\n",
    "    odr_fit.perform_odr(voltage.values, voltage_error.values, R2s.values, dR2s.values)\n",
    ")\n",
    "print(f\"plot2:\\nchi_square {chi_square}\\ndegrees_freedom {degrees_freedom}\\nchi_square_reduced {chi_square_reduced} \\np_value {p_value}\\n\\n\")\n",
    "\n",
    "odr_fit.plot_fit(\n",
    "    voltage.values,\n",
    "    voltage_error.values,\n",
    "    R1s.values,\n",
    "    dR1s.values,\n",
    "    results1,\n",
    "    \"plot1_fit.png\",\n",
    ")\n",
    "odr_fit.plot_fit(\n",
    "    voltage.values,\n",
    "    voltage_error.values,\n",
    "    R2s.values,\n",
    "    dR2s.values,\n",
    "    results2,\n",
    "    \"plot2_fit.png\",\n",
    ")\n",
    "\n",
    "odr_fit.plot_residuals(\n",
    "    voltage.values,\n",
    "    voltage_error.values,\n",
    "    R1s.values,\n",
    "    dR1s.values,\n",
    "    results1,\n",
    "    \"plot1_residuals.png\",\n",
    ")\n",
    "odr_fit.plot_residuals(\n",
    "    voltage.values,\n",
    "    voltage_error.values,\n",
    "    R2s.values,\n",
    "    dR2s.values,\n",
    "    results2,\n",
    "    \"plot2_residuals.png\",\n",
    ")"
   ]
  },
  {
   "cell_type": "code",
   "execution_count": null,
   "metadata": {},
   "outputs": [],
   "source": []
  }
 ],
 "metadata": {
  "kernelspec": {
   "display_name": ".venv",
   "language": "python",
   "name": "python3"
  },
  "language_info": {
   "codemirror_mode": {
    "name": "ipython",
    "version": 3
   },
   "file_extension": ".py",
   "mimetype": "text/x-python",
   "name": "python",
   "nbconvert_exporter": "python",
   "pygments_lexer": "ipython3",
   "version": "3.12.7"
  }
 },
 "nbformat": 4,
 "nbformat_minor": 2
}
